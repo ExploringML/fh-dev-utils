{
 "cells": [
  {
   "cell_type": "markdown",
   "metadata": {},
   "source": [
    "# API"
   ]
  },
  {
   "cell_type": "markdown",
   "metadata": {},
   "source": []
  },
  {
   "cell_type": "code",
   "execution_count": null,
   "metadata": {},
   "outputs": [],
   "source": [
    "#| default_exp serve"
   ]
  },
  {
   "cell_type": "code",
   "execution_count": null,
   "metadata": {},
   "outputs": [],
   "source": [
    "#| hide\n",
    "from nbdev.showdoc import *"
   ]
  },
  {
   "cell_type": "code",
   "execution_count": null,
   "metadata": {},
   "outputs": [],
   "source": [
    "#| export\n",
    "from fasthtml.common import *\n",
    "import subprocess\n",
    "from time import time"
   ]
  },
  {
   "cell_type": "markdown",
   "metadata": {},
   "source": [
    "## `serve_dev()`\n",
    "\n",
    "The `serve_dev()` function is a wrapper around the FastHTML `serve()` function, adding utilities to enhance the development experience."
   ]
  },
  {
   "cell_type": "code",
   "execution_count": null,
   "metadata": {},
   "outputs": [],
   "source": [
    "#| export\n",
    "def serve_dev(\n",
    "    app='app',                 # FastHTML (Starlette) class instance\n",
    "    host='0.0.0.0',            # Uvicorn host\n",
    "    port=None,                 # Uvicorn port\n",
    "    reload=True,               # Uvicorn reload status\n",
    "    reload_includes=None,      # Files to watch to reload Uvicorn\n",
    "    reload_excludes=None,      # Files to exclude from watching to reload Uvicorn\n",
    "    sqlite_port=8035,          # sqlite-web port\n",
    "    db=False,                  # Enable SQLIte browser\n",
    "    db_path='data/app.db',     # SQLite database path\n",
    "    jupyter=False,             # Enable Jupyter Lab\n",
    "    jupyter_port=8036,         # Jupyter Lab port\n",
    "    tw=False,                  # Enable TailwindCSS\n",
    "    tw_src='./app.css',        # TailwindCSS source file\n",
    "    tw_dist='./public/app.css' # TailwindCSS output file\n",
    "):\n",
    "    \"Utility function to start FastHTML, TailwindCSS, Jupyter Lab, and SQLite in development mode\"\n",
    "    import inspect\n",
    "    frame = inspect.currentframe().f_back\n",
    "    module = inspect.getmodule(frame)\n",
    "    \n",
    "    # Check if this is the main module\n",
    "    if module.__name__ != '__main__':\n",
    "        return\n",
    "\n",
    "    appname = module.__name__\n",
    "\n",
    "    if tw:\n",
    "        print(\"Watching for TailwindCSS class changes...\")\n",
    "        tailwind_process = subprocess.Popen(\n",
    "            ['tailwindcss', '-i', tw_src, '-o', tw_dist, '--watch'],\n",
    "            stdout=subprocess.DEVNULL,\n",
    "            stderr=subprocess.DEVNULL\n",
    "        )\n",
    "\n",
    "    if db:\n",
    "        #print(\"Starting SQLite...\")\n",
    "        sqlite_process = subprocess.Popen(\n",
    "            ['sqlite_web', db_path, '--port', str(sqlite_port), '--no-browser'],\n",
    "            stdout=subprocess.DEVNULL,\n",
    "            stderr=subprocess.DEVNULL\n",
    "        )\n",
    "        print(f'SQLite link: http://localhost:{sqlite_port}')\n",
    "\n",
    "    if jupyter:\n",
    "        #print(\"Starting Jupyter...\")\n",
    "        jupyter_process = subprocess.Popen(\n",
    "            ['jupyter', 'lab', '--port', str(jupyter_port), '--no-browser', '--NotebookApp.token=', '--NotebookApp.password='],\n",
    "        stdout=subprocess.PIPE,\n",
    "        stderr=subprocess.PIPE,\n",
    "            text=True\n",
    "        )\n",
    "\n",
    "        # Extract and print the Jupyter Lab URL\n",
    "        for line in jupyter_process.stderr:\n",
    "            if 'http://' in line:\n",
    "                match = re.search(r'(http://localhost:\\d+/lab)', line)\n",
    "                if match:\n",
    "                    print(f'Jupyter Lab link: {match.group(1)}')\n",
    "                    break\n",
    "\n",
    "    try:\n",
    "        #print(\"Starting FastHTML...\")\n",
    "        serve(appname=appname, app=app, host=host, port=port, reload=reload, reload_includes=reload_includes, reload_excludes=reload_excludes)\n",
    "    finally:\n",
    "        if db:\n",
    "            sqlite_process.terminate()\n",
    "        if jupyter:\n",
    "            jupyter_process.terminate()\n",
    "        if tw:\n",
    "            tailwind_process.terminate()\n"
   ]
  },
  {
   "cell_type": "markdown",
   "metadata": {},
   "source": [
    "## `cache_buster()`\n",
    "\n",
    "It can be annoying sometimes when FastHTML live reload is enabled and you're quickly iterating on CSS changes and the styles sometimes get cached between page loads. When this happens you have to manually clear the browser cache and reload the page.\n",
    "\n",
    "The `cache_buster()` function adds a unique timestamp string to the CSS file added to the site header which is different every page load, so this should eliminate browser caching of CSS leading to a smoother development workflow."
   ]
  },
  {
   "cell_type": "code",
   "execution_count": null,
   "metadata": {},
   "outputs": [],
   "source": [
    "#| export\n",
    "def cache_buster():\n",
    "\t\"Helps to avoid browser caching of dynamically generated CSS during development\"\n",
    "\treturn f\"?v={int(time())}\""
   ]
  },
  {
   "cell_type": "code",
   "execution_count": null,
   "metadata": {},
   "outputs": [],
   "source": [
    "#| hide\n",
    "import nbdev; nbdev.nbdev_export()"
   ]
  }
 ],
 "metadata": {
  "kernelspec": {
   "display_name": "python3",
   "language": "python",
   "name": "python3"
  }
 },
 "nbformat": 4,
 "nbformat_minor": 4
}
