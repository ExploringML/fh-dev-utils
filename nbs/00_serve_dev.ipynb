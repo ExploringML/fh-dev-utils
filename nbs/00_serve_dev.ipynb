{
 "cells": [
  {
   "cell_type": "markdown",
   "metadata": {},
   "source": [
    "# serve_dev()\n",
    "\n",
    "> Utility functions to help with the development of FastHTML applications."
   ]
  },
  {
   "cell_type": "code",
   "execution_count": null,
   "metadata": {},
   "outputs": [],
   "source": [
    "#| default_exp serve"
   ]
  },
  {
   "cell_type": "code",
   "execution_count": null,
   "metadata": {},
   "outputs": [],
   "source": [
    "#| hide\n",
    "from nbdev.showdoc import *"
   ]
  },
  {
   "cell_type": "code",
   "execution_count": null,
   "metadata": {},
   "outputs": [],
   "source": [
    "#| export\n",
    "from fasthtml.common import *\n",
    "import subprocess"
   ]
  },
  {
   "cell_type": "markdown",
   "metadata": {},
   "source": [
    "# Module Text Test\n",
    "This was added in the `00_core.ipynb` file."
   ]
  },
  {
   "cell_type": "code",
   "execution_count": null,
   "metadata": {},
   "outputs": [],
   "source": [
    "#| export\n",
    "def serve_dev(\n",
    "    app='app',\n",
    "    host='0.0.0.0',\n",
    "    port=None,\n",
    "    reload=True,\n",
    "    reload_includes=None,\n",
    "    reload_excludes=None,\n",
    "    sqlite_port=8035,\n",
    "    db=False,\n",
    "    db_path='data/app.db',\n",
    "    jupyter=False,\n",
    "    jupyter_port=8036,\n",
    "    tw=False,\n",
    "    tw_src='./app.css',\n",
    "    tw_dist='./public/app.css'\n",
    "):\n",
    "    import inspect\n",
    "    frame = inspect.currentframe().f_back\n",
    "    module = inspect.getmodule(frame)\n",
    "    \n",
    "    # Check if this is the main module\n",
    "    if module.__name__ != '__main__':\n",
    "        return\n",
    "\n",
    "    appname = module.__name__\n",
    "\n",
    "    if db:\n",
    "        print(\"Starting SQLite...\")\n",
    "        sqlite_process = subprocess.Popen(\n",
    "            ['sqlite_web', db_path, '--port', str(sqlite_port), '--no-browser'],\n",
    "            stdout=subprocess.DEVNULL,\n",
    "            stderr=subprocess.DEVNULL\n",
    "        )\n",
    "        print(f'SQLite: http://localhost:{sqlite_port}')\n",
    "\n",
    "    if jupyter:\n",
    "        print(\"Starting Jupyter...\")\n",
    "        jupyter_process = subprocess.Popen(\n",
    "            ['jupyter', 'lab', '--port', str(jupyter_port), '--no-browser', '--NotebookApp.token=', '--NotebookApp.password='],\n",
    "        stdout=subprocess.PIPE,\n",
    "        stderr=subprocess.PIPE,\n",
    "            text=True\n",
    "        )\n",
    "\n",
    "        # Extract and print the Jupyter Lab URL\n",
    "        for line in jupyter_process.stderr:\n",
    "            if 'http://' in line:\n",
    "                match = re.search(r'(http://localhost:\\d+/lab)', line)\n",
    "                if match:\n",
    "                    print(f'Jupyter Lab: {match.group(1)}')\n",
    "                    break\n",
    "\n",
    "    if tw:\n",
    "        print(\"Starting Tailwind...\")\n",
    "        tailwind_process = subprocess.Popen(\n",
    "            ['tailwindcss', '-i', tw_src, '-o', tw_dist, '--watch'],\n",
    "            stdout=subprocess.DEVNULL,\n",
    "            stderr=subprocess.DEVNULL\n",
    "        )\n",
    "\n",
    "    try:\n",
    "        print(\"Starting FastHTML...\")\n",
    "        serve(appname=appname, app=app, host=host, port=port, reload=reload, reload_includes=reload_includes, reload_excludes=reload_excludes)\n",
    "    finally:\n",
    "        if db:\n",
    "            sqlite_process.terminate()\n",
    "        if jupyter:\n",
    "            jupyter_process.terminate()\n",
    "        if tw:\n",
    "            tailwind_process.terminate()\n"
   ]
  },
  {
   "cell_type": "code",
   "execution_count": null,
   "metadata": {},
   "outputs": [],
   "source": [
    "#| hide\n",
    "import nbdev; nbdev.nbdev_export()"
   ]
  }
 ],
 "metadata": {
  "kernelspec": {
   "display_name": "python3",
   "language": "python",
   "name": "python3"
  }
 },
 "nbformat": 4,
 "nbformat_minor": 4
}
